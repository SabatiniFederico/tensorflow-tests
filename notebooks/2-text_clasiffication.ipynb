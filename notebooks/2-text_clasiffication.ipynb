{
 "cells": [
  {
   "cell_type": "code",
   "execution_count": 12,
   "metadata": {},
   "outputs": [
    {
     "name": "stdout",
     "output_type": "stream",
     "text": [
      "2.13.0\n"
     ]
    }
   ],
   "source": [
    "import matplotlib.pyplot as plt\n",
    "import os\n",
    "import re\n",
    "import shutil\n",
    "import string\n",
    "import tensorflow as tf\n",
    "\n",
    "from tensorflow.keras import layers\n",
    "from tensorflow.keras import losses\n",
    "\n",
    "print(tf.__version__)"
   ]
  },
  {
   "cell_type": "code",
   "execution_count": 17,
   "metadata": {},
   "outputs": [],
   "source": [
    "url = \"https://ai.stanford.edu/~amaas/data/sentiment/aclImdb_v1.tar.gz\"\n",
    "\n",
    "dataset = tf.keras.utils.get_file(\"aclImdb_v1\", url,\n",
    "                                    untar=True, cache_dir='.',\n",
    "                                    cache_subdir='')\n",
    "\n",
    "dataset_dir = os.path.join(os.path.dirname(dataset), 'aclImdb')"
   ]
  },
  {
   "cell_type": "code",
   "execution_count": 16,
   "metadata": {},
   "outputs": [
    {
     "name": "stdout",
     "output_type": "stream",
     "text": [
      "Review b'There is this father-son conversation in the climax of \\'KALPURUSH\\'. I quote the English DVD-subtitle version. Shumonto tells his father: \"I may not have become someone, but when I see two people in love, I smile. And when I see someone eating alone, I cry.\" Ashvini, his father, replies wistfully: \"I wish I could\\'ve lived my life like you did.\" These 2 lines, perhaps, comprise the gist of this new film by Buddhadev Dasgupta - director of teeny-weeny gems like \\'Tahader Katha\\', \\'Bagh Bahadur\\', \\'Uttara\\' & \\'Mondo Meyer Upakhyan\\' - which took nearly 3 years to reach the cinemas in India.<br /><br />The film opens with a man called Ashvini following a younger man called Shumonto, who, we are told, is his son. It seems that the father is stalking - or haunting, rather - his son. As the film progresses and we meet Shumonto\\'s ambitious wife, Supriya, and his mother, Koyel, who seems to be tied up with something in her past, we realise that the son is, indeed, haunted by his father who was a somebody. He was a successful doctor and they had this beautiful family, but something - or someone - comes in and this happy husband-wife-child drift apart. This drifting apart is too hard for these three to endure, and the son, we see, is unable to lead even a proper relationship with his wife.<br /><br />I don\\'t know of too many father-son films from Bollywood or other Indian language films. I\\'ve seen only Ramesh Sippy\\'s \\'Shakti\\' & Feroze A. Khan\\'s \\'Gandhi, my father\\'. Both were the powerful types with dramatic, sad endings. I\\'ve also seen \\'Thevar Magan\\' & its Hindi remake \\'Virasat\\', but they were different. KALPURUSH is drama, but not the powerful type. It is, like other Dasgupta films, creatively- photographed, dream-like, poetic & soft. This keeps the viewer absolutely un-prepared for the surprise ending, for the film hardly feels like a father-son film. It starts like a husband-wife story, creates the tension, goes to become a mother-son film, and then explains why it is so, why the son is so, what was his relationship like with his father, what happens to the father, the mother, what the son\\'s wife does, and how the son carries on with his life.<br /><br />It would be unfair to dub KALPURUSH strictly for Buddhadev Dasgupta fans. However, I do suggest that the viewers acquaint themselves with Dasgupta\\'s films before going to see KALPURUSH. Dasgupta\\'s films are often accused of having a near-invisible storyline. KALPURUSH is no different. It starts, too, in a very un-Buddhadev Dasgupta-ish way. Instead of bare landscapes of Puruliya & Midnapore, one sees the trams of Calcutta in the opening credits. It helps, though, for it is like - What is this, urban Bengal? Soon after this, the film turns typical Dasgupta. The rural Bengal, this time, are the scenic outdoor locales of coastal Orissa.<br /><br />The actors are stupendous. Mithun Chakraborty is a legend. This is his second film with Dasgupta. He plays his age, suits the part, one just has to see him in this one. Rahul Bose is so silent one could feel the loss of his loser character. Sameera Reddy has looked good in just 3 films - \\'Musafir\\', \\'Migration\\' & \\'Kalpurush\\'. I haven\\'t seen \\'Ami, Yasin ar amar Madhubala\\' so I can\\'t comment on that. She better shift to the Bengali film industry. A mentor like Dasgupta would surely do her a lot good. Sudipta Chakraborty\\'s Other Woman role is short, but long enough to bring in that right amount of glamour, desire & heartbreak. Labony Sarkar is natural with a capital N.<br /><br />With the usual Buddhadev Dasgupta tropes in place, KALPURUSH is a visual treat. There are bare landscapes, dry leaves flying in the wind, haunting background score, mysterious folk artistes in even more mysterious costumes & masks, dilapidated, old buildings, and things rustic and antique. This time there is also the sea and an aeroplane flying right outside the open window. KALPURUSH is a film which needs to be seen.'\n",
      "Label 2\n",
      "Review b'The year 2005 saw no fewer than 3 filmed productions of H. G. Wells\\' great novel, \"War of the Worlds\". This is perhaps the least well-known and very probably the best of them. No other version of WotW has ever attempted not only to present the story very much as Wells wrote it, but also to create the atmosphere of the time in which it was supposed to take place: the last year of the 19th Century, 1900 \\xc2\\x85 using Wells\\' original setting, in and near Woking, England.<br /><br />IMDb seems unfriendly to what they regard as \"spoilers\". That might apply with some films, where the ending might actually be a surprise, but with regard to one of the most famous novels in the world, it seems positively silly. I have no sympathy for people who have neglected to read one of the seminal works in English literature, so let\\'s get right to the chase. The aliens are destroyed through catching an Earth disease, against which they have no immunity. If that\\'s a spoiler, so be it; after a book and 3 other films (including the 1953 classic), you ought to know how this ends.<br /><br />This film, which follows Wells\\' plot in the main, is also very cleverly presented \\xc2\\x96 in a way that might put many viewers off due to their ignorance of late 19th/early 20th Century photography. Although filmed in a widescreen aspect, the film goes to some lengths to give an impression of contemporaneity. The general coloration of skin and clothes display a sepia tint often found in old photographs (rather than black). Colors are often reminiscent of hand-tinting. At other times, colors are washed out. These variations are typical of early films, which didn\\'t use standardized celluloid stock and therefore presented a good many changes in print quality, even going from black/white to sepia/white to blue/white to reddish/white and so on \\xc2\\x96 as you\\'ll see on occasion here. The special effects are deliberately retrograde, of a sort seen even as late as the 1920s \\xc2\\x96 and yet the Martians and their machines are very much as Wells described them and have a more nearly realistic \"feel\". Some of effects are really awkward \\xc2\\x96 such as the destruction of Big Ben. The acting is often more in the style of that period than ours. Some aspects of Victorian dress may appear odd, particularly the use of pomade or brilliantine on head and facial hair.<br /><br />This film is the only one that follows with some closeness Wells\\' original narrative \\xc2\\x96 as has been noted. Viewers may find it informative to note plot details that appear here that are occasionally retained in other versions of the story. Wells\\' description of the Martians \\xc2\\x96 a giant head mounted on numerous tentacles \\xc2\\x96 is effectively portrayed. When the Martian machines appear, about an hour into the film, they too give a good impression of how Wells described them. Both Wells and this film do an excellent job of portraying the progress of the Martians from the limited perspective (primarily) of rural England \\xc2\\x96 plus a few scenes in London (involving the Narrator\\'s brother). The director is unable to resist showing the destruction of a major landmark (Big Ben), but at least doesn\\'t dwell unduly on the devastation of London.<br /><br />The victory of the Martians is hardly a surprise, despite the destruction by cannon of some of their machines. The Narrator, traveling about to seek escape, sees much of what Wells terms \"the rout of Mankind\". He encounters a curate endowed with the Victorian affliction of a much too precious and nervous personality. They eventually find themselves on the very edge of a Martian nest, where they discover an awful fact: the Martians are shown to be vampires who consume their prey alive in a very effective scene. Wells adds that after eating they set up \"a prolonged and cheerful hooting\". The Narrator finally is obliged to beat senseless the increasingly hysterical curate \\xc2\\x96 who revives just as the Martians drag him off to the larder (cheers from the gallery; British curates are so often utterly insufferable).<br /><br />This film lasts almost 3 hours, going through Wells\\' story in welcome detail. It\\'s about time the author got his due \\xc2\\x96 in a compelling presentation that builds in dramatic impact. A word about the acting: Don\\'t expect award-winning performances. They\\'re not bad, however, the actors are earnest and they grow on you. Most of them, however, have had very abbreviated film careers, often only in this film. The Narrator is played by hunky Anthony Piana, in his 2nd film. The Curate is John Kaufman \\xc2\\x96 also in his 2nd film as an actor but who has had more experience directing. The Brother (\"Henderson\") is played with some conviction by W. Bernard Bauman in his first film. The Artilleryman, the only other sizable part, is played by James Lathrop in his first film.<br /><br />This is overall a splendid film, portraying for the first time the War of the Worlds as Wells wrote it. Despite its slight defects, it is far and away better than any of its hyped-up competitors. If you want to see H. G. Wells\\' War of the Worlds \\xc2\\x96 and not some wholly distorted version of it \\xc2\\x96 see this film!'\n",
      "Label 1\n",
      "Review b\"This show is probably one of the worst shows I've seen on the network. I have begun to even avoid its commercials because I still am astonished how its been on TV so long. This show is probably the worst thing I've seen in a decade. When I say bad... I MEAN BAD. The things done are mostly scripted and very repetitive. All there is, is riots and people beating other people up. I just don't understand how this show was even thought about putting it on air, because its just so bad. It's completely ridiculous. Out of 5 stars *****, I don't think I would even give it a star.<br /><br />At all costs. Avoid this show.\"\n",
      "Label 2\n",
      "Review b\"I wish I could find something good about this film but helas... I really tried hard watching it at different times but still, it's almost unbearable to watch. I really envy non french-speakers who may then not be affected by the terrible acting (but the script is basically awful so the actors may not be totally responsible). This film is discontinued, the storyline is either too slow or too fast, no identification with the characters is possible, it's just uncanny. The actors seem to 'recitate' their part with no emotion (Deneuve has such a monotonous and unconvincing tone of voice. Vincent Perez is very good-looking but truly has no talent whatsoever). Everything happens abruptly with no real continuity, the editing is appalling. We don't see that much of the Vietnam either and these bits of history do nothing for the film. What this film lacks above all is depth, it just goes in different directions with no coherence. Bits of this and bits of that, I find HARD to believe this film got an award for the best foreign film. The landscapes maybe? I certainly would recommend 'The Lover' inspired by Marguerite Duras' novel of the same name as well as films like 'Cyclo' or 'the scent of the green papaya'. A different aspect of the Vietnam but far more interesting.\"\n",
      "Label 2\n",
      "Review b\"I don't understand people writing here this movie is a soap opera. OK it's about relationships and it's not a character sketch, but it's also a well done movie with some very strong moments and some fine details.\"\n",
      "Label 2\n",
      "Review b'Warning Spoiler. . . I have to agree with you, it was almost there. This was such a bad movie, about such and interesting true story. It had such promise, but the acting was ridiculous at best. Some sets were beautiful and realistic. Others are something out of a theme park. I found myself laughing as I watched, what was suppose to be, serious scenes. I really wanted to like this movie, but I couldn\\'t. The best part was the fight between friends that ended with the \"King\" dying. I liked the Queens\\' punishment. And, the final shot made a beautiful picture, though. There are so many better movies to watch. I don\\'t recommend this.'\n",
      "Label 0\n",
      "Review b\"Before watching this movie I had some serious doubts about it. Not only is this a courtroom drama (and as you know the streets of Hollywood seem to be paved with this kind of scripts), it also featured Cher as one of the main actresses. I'm not really a fan of her as a singer, but seeing her as a good actress is even a lot harder. As you know, almost all pop diva's, young or old, seem to have that urge to appear in one or two movies and that almost always results in complete disasters. So why would Cher be any different...? <br /><br />When a judge commits suicide and his secretary is found murdered in a river, a homeless and deaf-mute man, named Carl Anderson, is arrested for her murder, because all indirect evidence points to him. Because he can't afford a lawyer, public defender Kathleen Riley is assigned by the court as his lawyer. Even though she doesn't always believes in his innocence, she still goes after the real killer. She gets help from the congressional adviser Eddie Sanger, who is called to be on the jury panel and together they find some important evidence that the murder has something to do with corruption in some high ranks...<br /><br />I must admit that Cher has done a better job than I ever expected from her. She actually was very convincing and interesting to watch as the public defender. Together with Liam Neeson she makes this movie work. Their nice performances and their difficult professional relationship in this movie are actually the best thing this movie has to offer. The story on itself certainly isn't that bad, but the plot is a bit far-fetched and gives this movie an ending that is a bit too abrupt.<br /><br />In the end this is a reasonably well-done courtroom drama / thriller that lacks the required tension to be fully satisfying, but which offers some nice acting and some good direction. It's not the best movie in the genre, but it is enjoyable enough to be worth a watch. I give it a 6.5/10.\"\n",
      "Label 2\n",
      "Review b'The daredevils/heroes are: Gene-- the brains of the outfit, Tiny \\xc2\\x96 a gifted strongman, and Bert -- an agile escape artist. They are aided by Carole Landis who plays Blanche Grandville \\xc2\\x96 the granddaughter of Horace Grandville whose multimillion dollar industrial complex is under attack by master criminal 39013. This film is twelve chapters of action packed cliff-hanging fun. <br /><br />I particularly liked the fact that these circa 1939 daredevils did almost all of their action scenes in double breasted three piece suits! <br /><br />The history of the major actors is quite interesting: <br /><br />Dave Sharpe,Bert, became an Army pilot during WWII and a major stuntman; having a long and celebrated career in the industry. He has been ranked with the great Yakima Canutt. <br /><br />Charles Quigley, Gene, had a good career but died of cirrhosis of the liver before he turned sixty. <br /><br />Bruce Bennet aka Herman Brix, who played Tiny, was a 1928 Olympic champion who went on to a very long career and lived to be over 100 years old. <br /><br />Carole Landis was 29 when she committed suicide. <br /><br />I bought this film because of the multitude of glowing reviews found on this forum. I was not disappointed!'\n",
      "Label 2\n",
      "Review b\"Neil Labute's in the company of men is a misogynistic look at the way men has to conquer women in and out of the bedroom. Aaron Eckhart plays a womanizer who makes a bet with a fellow co-worker to seduce a young deaf woman, and dump her in order to feed their misogynistic egos. In their pursuit of this innocent woman, they wine and dine her, and ultimately humiliate her in such a way that can only be describes as inhuman. Neil Labute's psychological masterpiece is a very sobering look at the game both sexes play, and the cruelty that we can inflict on ourselves.<br /><br />Prepare to be disturbed.\"\n",
      "Label 2\n",
      "Review b'Fans of late night 1950\\'s science fiction (insert Cleveland\\'s \"Goulardi\" show here) remember this not as \"Creature with the Atom Brain\" but as the movie with Uncle Dave. John Launer (in his first movie role) played police Capt. Dave Harr, whose niece was seven year old Penny Walker (Linda Bennett). Care is taken early to show that Penny adores her Uncle Dave and late in the story (in the most famous scene in the whole 50\\'s sci-fi genre) he visits her on her birthday. But it is the re-animated Uncle Dave, whose changed voice Mrs. Walker credits to a cold. She leaves Penny in the living room with Dave and goes into the kitchen. Penny then gives Dave her doll Henrietta. Cut to Mrs. Edwards startled face when she hears Penny screaming in the living room. Poor Henrietta!<br /><br />Launer pretty much steals the film from the rest of the cast, both before and after he is killed. As Captain Harr he cracks wise in every scene and his dialogue is actually extremely funny. <br /><br />The premise, to quote Penny\\'s father (Richard Denning): \"Remote-controlled creatures, their brains powered by atomic energy, roaming the streets, directed from a central point\". <br /><br />The background involves the deportation of Frank Buchanan (Michael Granger), an American gangster who vows revenge and finances a not so mad German scientist (Gregory Gaye) who is developing a process (based on then trendy radioactivity) to animate dead bodies. They set up a laboratory in the lead lined walls of a LA mansion, steal a few bodies from the morgue, and begin a cottage industry of wiping out Buchanan\\'s list of enemies. <br /><br />The scientist spends most of his screen time complaining about the corruption of his noble experiment for evil means. The set design for the lab is unexpectedly elaborate and the sequences of the two men crawling around in a 1950\\'s idea of radiation suits are especially effective. <br /><br />One of their creatures in the climatic scene looks a lot like Treat Williams. This scene has a \"Night of the Living Dead\" flavor. Although the authorities have discovered that the bodies are controlled by electrodes surgically planted in their brains, they conveniently fail to mention this to the police and national guardsmen who are fighting the monsters; allowing the climatic scene to continue until other means are found to deactivate the creatures. Up until this scene, the movie deliberately used almost entirely wide master shots, much like the \"mise en scene\" (limited editing cuts within a scene) technique of some Hitchcock films. Probably done for budget reasons, it serves nicely to set up the climax, which is full of sudden cuts to extreme close-ups of the walking dead. This must have been quite frightening on the big screen, particularly after being accustomed to the more distanced style of the first sixty minutes of the film.<br /><br />I suggest that potential viewers ignore the IMDb voting, this is a scary horror/sci-fi film done with a trace of self-parody. Another one of Producer Sam Katzman\\'s money making B-movies; where he exploits the growing fear of a nation learning to deal with the atomic age, and its fascination with the concept of radioactivity.'\n",
      "Label 2\n"
     ]
    }
   ],
   "source": [
    "train_dir = os.path.join(dataset_dir, 'train')\n",
    "os.listdir(train_dir)\n",
    "\n",
    "for text_batch, label_batch in raw_train_ds.take(1):\n",
    "  for i in range(10):\n",
    "    print(\"Review\", text_batch.numpy()[i])\n",
    "    print(\"Label\", label_batch.numpy()[i])"
   ]
  },
  {
   "cell_type": "code",
   "execution_count": 18,
   "metadata": {},
   "outputs": [
    {
     "name": "stdout",
     "output_type": "stream",
     "text": [
      "\"Tulip\" is on the \"Australian All Shorts\" video from \"Tribe First Rites\" showcasing the talents of first time directors.<br /><br />I wish more scripts had such excellent dialogue.<br /><br />I hope Rachel Griffiths has more stories to tell, she does it so well.\n"
     ]
    }
   ],
   "source": [
    "sample_file = os.path.join(train_dir, 'pos/1180_9.txt')\n",
    "with open(sample_file) as f:\n",
    "  print(f.read())"
   ]
  },
  {
   "cell_type": "code",
   "execution_count": null,
   "metadata": {},
   "outputs": [],
   "source": [
    "remove_dir = os.path.join(train_dir, 'unsup')\n",
    "shutil.rmtree(remove_dir)"
   ]
  },
  {
   "cell_type": "code",
   "execution_count": 15,
   "metadata": {},
   "outputs": [
    {
     "name": "stdout",
     "output_type": "stream",
     "text": [
      "Found 75000 files belonging to 3 classes.\n",
      "Using 60000 files for training.\n"
     ]
    }
   ],
   "source": [
    "batch_size = 32\n",
    "seed = 42\n",
    "\n",
    "raw_train_ds = tf.keras.utils.text_dataset_from_directory(\n",
    "    'aclImdb/train', \n",
    "    batch_size=batch_size, \n",
    "    validation_split=0.2, \n",
    "    subset='training', \n",
    "    seed=seed)"
   ]
  },
  {
   "cell_type": "code",
   "execution_count": null,
   "metadata": {},
   "outputs": [
    {
     "name": "stdout",
     "output_type": "stream",
     "text": [
      "Label 0 corresponds to neg\n",
      "Label 1 corresponds to pos\n"
     ]
    }
   ],
   "source": [
    "print(\"Label 0 corresponds to\", raw_train_ds.class_names[0])\n",
    "print(\"Label 1 corresponds to\", raw_train_ds.class_names[1])"
   ]
  },
  {
   "cell_type": "code",
   "execution_count": null,
   "metadata": {},
   "outputs": [
    {
     "name": "stdout",
     "output_type": "stream",
     "text": [
      "Found 25000 files belonging to 2 classes.\n",
      "Using 5000 files for validation.\n"
     ]
    }
   ],
   "source": [
    "raw_val_ds = tf.keras.utils.text_dataset_from_directory(\n",
    "    'aclImdb/train', \n",
    "    batch_size=batch_size, \n",
    "    validation_split=0.2, \n",
    "    subset='validation', \n",
    "    seed=seed)"
   ]
  },
  {
   "cell_type": "code",
   "execution_count": null,
   "metadata": {},
   "outputs": [],
   "source": [
    "def custom_standardization(input_data):\n",
    "  lowercase = tf.strings.lower(input_data)\n",
    "  stripped_html = tf.strings.regex_replace(lowercase, '<br />', ' ')\n",
    "  return tf.strings.regex_replace(stripped_html,\n",
    "                                  '[%s]' % re.escape(string.punctuation),\n",
    "                                  '')"
   ]
  },
  {
   "cell_type": "code",
   "execution_count": null,
   "metadata": {},
   "outputs": [],
   "source": [
    "max_features = 10000\n",
    "sequence_length = 250\n",
    "\n",
    "vectorize_layer = layers.TextVectorization(\n",
    "    standardize=custom_standardization,\n",
    "    max_tokens=max_features,\n",
    "    output_mode='int',\n",
    "    output_sequence_length=sequence_length)"
   ]
  },
  {
   "cell_type": "code",
   "execution_count": null,
   "metadata": {},
   "outputs": [],
   "source": [
    "# Make a text-only dataset (without labels), then call adapt\n",
    "train_text = raw_train_ds.map(lambda x, y: x)\n",
    "vectorize_layer.adapt(train_text)"
   ]
  },
  {
   "cell_type": "code",
   "execution_count": null,
   "metadata": {},
   "outputs": [
    {
     "name": "stdout",
     "output_type": "stream",
     "text": [
      "Found 25000 files belonging to 2 classes.\n"
     ]
    }
   ],
   "source": [
    "def vectorize_text(text, label):\n",
    "  text = tf.expand_dims(text, -1)\n",
    "  return vectorize_layer(text), label\n",
    "\n",
    "raw_test_ds = tf.keras.utils.text_dataset_from_directory(\n",
    "    'aclImdb/test', \n",
    "    batch_size=batch_size)"
   ]
  },
  {
   "cell_type": "code",
   "execution_count": null,
   "metadata": {},
   "outputs": [
    {
     "name": "stdout",
     "output_type": "stream",
     "text": [
      "Review tf.Tensor(b'Belmondo is a tough cop. He goes after a big-time drug dealer (played by Henry Silva, normally a great villain - see \"Sharky\\'s Machine\"; but here he is clearly dubbed, and because of that he lacks his usual charisma). He goes to the scuzziest places of Paris and Marseilles, asks for some names, beats up some people, gets the names, goes to more scuzzy places, asks for more names, beats up more people, etc. The whole movie is punch after punch after punch. It seems that the people who made it had no other ambition than to create the French equivalent of \"Dirty Harry\". Belmondo, who was 50 here, does perform some good stunts at the beginning; apart from those, \"Le Marginal\" is a violent, episodic, trite, shallow and forgettable cop movie. (*1/2)', shape=(), dtype=string)\n",
      "Label neg\n",
      "Vectorized review (<tf.Tensor: shape=(1, 250), dtype=int64, numpy=\n",
      "array([[   1,    7,    4, 1233, 1021,   27,  261,  101,    4,    1, 1525,\n",
      "        6992,  248,   32, 1488,    1, 1659,    4,   86, 1011,   67,    1,\n",
      "        1707,   18,  128,   27,    7,  688, 2396,    3,   84,    5,   12,\n",
      "          27, 1453,   24,  616, 3314,   27,  261,    6,    2,    1, 1329,\n",
      "           5, 1371,    3,    1, 1581,   15,   46, 1356, 3612,   56,   46,\n",
      "          79,  201,    2, 1356,  261,    6,   50,    1, 1329, 1581,   15,\n",
      "          50, 1356, 3612,   56,   50,   79,  532,    2,  211,   17,    7,\n",
      "        2851,  101, 2851,  101, 2851,    9,  180,   12,    2,   79,   36,\n",
      "          90,    9,   66,   57,   78, 5415,   70,    6,  916,    2,  800,\n",
      "        4891,    5, 1678, 1347,    1,   36,   13, 1732,  128,  120, 3078,\n",
      "          46,   49, 3274,   31,    2,  435,  948,   35,  143, 3519,    1,\n",
      "           7,    4, 1097, 9578, 3092, 2056,    3, 2512, 1021,   17, 1105,\n",
      "           0,    0,    0,    0,    0,    0,    0,    0,    0,    0,    0,\n",
      "           0,    0,    0,    0,    0,    0,    0,    0,    0,    0,    0,\n",
      "           0,    0,    0,    0,    0,    0,    0,    0,    0,    0,    0,\n",
      "           0,    0,    0,    0,    0,    0,    0,    0,    0,    0,    0,\n",
      "           0,    0,    0,    0,    0,    0,    0,    0,    0,    0,    0,\n",
      "           0,    0,    0,    0,    0,    0,    0,    0,    0,    0,    0,\n",
      "           0,    0,    0,    0,    0,    0,    0,    0,    0,    0,    0,\n",
      "           0,    0,    0,    0,    0,    0,    0,    0,    0,    0,    0,\n",
      "           0,    0,    0,    0,    0,    0,    0,    0,    0,    0,    0,\n",
      "           0,    0,    0,    0,    0,    0,    0,    0,    0,    0,    0,\n",
      "           0,    0,    0,    0,    0,    0,    0,    0]])>, <tf.Tensor: shape=(), dtype=int32, numpy=0>)\n"
     ]
    }
   ],
   "source": [
    "# retrieve a batch (of 32 reviews and labels) from the dataset\n",
    "text_batch, label_batch = next(iter(raw_train_ds))\n",
    "first_review, first_label = text_batch[0], label_batch[0]\n",
    "print(\"Review\", first_review)\n",
    "print(\"Label\", raw_train_ds.class_names[first_label])\n",
    "print(\"Vectorized review\", vectorize_text(first_review, first_label))"
   ]
  },
  {
   "cell_type": "code",
   "execution_count": 10,
   "metadata": {},
   "outputs": [
    {
     "ename": "IndexError",
     "evalue": "list index out of range",
     "output_type": "error",
     "traceback": [
      "\u001b[0;31m---------------------------------------------------------------------------\u001b[0m",
      "\u001b[0;31mIndexError\u001b[0m                                Traceback (most recent call last)",
      "\u001b[1;32m/home/fsabatini/workspace/tensorflow-tests/notebooks/2-text_clasiffication.ipynb Celda 14\u001b[0m line \u001b[0;36m1\n\u001b[0;32m----> <a href='vscode-notebook-cell:/home/fsabatini/workspace/tensorflow-tests/notebooks/2-text_clasiffication.ipynb#X16sZmlsZQ%3D%3D?line=0'>1</a>\u001b[0m \u001b[39mprint\u001b[39m(\u001b[39m\"\u001b[39m\u001b[39m1287 ---> \u001b[39m\u001b[39m\"\u001b[39m,vectorize_layer\u001b[39m.\u001b[39;49mget_vocabulary()[\u001b[39m1287\u001b[39;49m])\n\u001b[1;32m      <a href='vscode-notebook-cell:/home/fsabatini/workspace/tensorflow-tests/notebooks/2-text_clasiffication.ipynb#X16sZmlsZQ%3D%3D?line=1'>2</a>\u001b[0m \u001b[39mprint\u001b[39m(\u001b[39m\"\u001b[39m\u001b[39m 313 ---> \u001b[39m\u001b[39m\"\u001b[39m,vectorize_layer\u001b[39m.\u001b[39mget_vocabulary()[\u001b[39m313\u001b[39m])\n\u001b[1;32m      <a href='vscode-notebook-cell:/home/fsabatini/workspace/tensorflow-tests/notebooks/2-text_clasiffication.ipynb#X16sZmlsZQ%3D%3D?line=2'>3</a>\u001b[0m \u001b[39mprint\u001b[39m(\u001b[39m'\u001b[39m\u001b[39mVocabulary size: \u001b[39m\u001b[39m{}\u001b[39;00m\u001b[39m'\u001b[39m\u001b[39m.\u001b[39mformat(\u001b[39mlen\u001b[39m(vectorize_layer\u001b[39m.\u001b[39mget_vocabulary())))\n",
      "\u001b[0;31mIndexError\u001b[0m: list index out of range"
     ]
    }
   ],
   "source": [
    "print(\"1287 ---> \",vectorize_layer.get_vocabulary()[1287])\n",
    "print(\" 313 ---> \",vectorize_layer.get_vocabulary()[313])\n",
    "print('Vocabulary size: {}'.format(len(vectorize_layer.get_vocabulary())))"
   ]
  },
  {
   "cell_type": "code",
   "execution_count": 9,
   "metadata": {},
   "outputs": [
    {
     "ename": "NameError",
     "evalue": "name 'raw_train_ds' is not defined",
     "output_type": "error",
     "traceback": [
      "\u001b[0;31m---------------------------------------------------------------------------\u001b[0m",
      "\u001b[0;31mNameError\u001b[0m                                 Traceback (most recent call last)",
      "\u001b[1;32m/home/fsabatini/workspace/tensorflow-tests/notebooks/2-text_clasiffication.ipynb Celda 15\u001b[0m line \u001b[0;36m1\n\u001b[0;32m----> <a href='vscode-notebook-cell:/home/fsabatini/workspace/tensorflow-tests/notebooks/2-text_clasiffication.ipynb#X20sZmlsZQ%3D%3D?line=0'>1</a>\u001b[0m train_ds \u001b[39m=\u001b[39m raw_train_ds\u001b[39m.\u001b[39mmap(vectorize_text)\n\u001b[1;32m      <a href='vscode-notebook-cell:/home/fsabatini/workspace/tensorflow-tests/notebooks/2-text_clasiffication.ipynb#X20sZmlsZQ%3D%3D?line=1'>2</a>\u001b[0m val_ds \u001b[39m=\u001b[39m raw_val_ds\u001b[39m.\u001b[39mmap(vectorize_text)\n\u001b[1;32m      <a href='vscode-notebook-cell:/home/fsabatini/workspace/tensorflow-tests/notebooks/2-text_clasiffication.ipynb#X20sZmlsZQ%3D%3D?line=2'>3</a>\u001b[0m test_ds \u001b[39m=\u001b[39m raw_test_ds\u001b[39m.\u001b[39mmap(vectorize_text)\n",
      "\u001b[0;31mNameError\u001b[0m: name 'raw_train_ds' is not defined"
     ]
    }
   ],
   "source": [
    "train_ds = raw_train_ds.map(vectorize_text)\n",
    "val_ds = raw_val_ds.map(vectorize_text)\n",
    "test_ds = raw_test_ds.map(vectorize_text)\n",
    "\n",
    "embedding_dim = 16\n",
    "\n",
    "model = tf.keras.Sequential([\n",
    "  layers.Embedding(max_features + 1, embedding_dim),\n",
    "  layers.Dropout(0.2),\n",
    "  layers.GlobalAveragePooling1D(),\n",
    "  layers.Dropout(0.2),\n",
    "  layers.Dense(1)])\n",
    "\n",
    "model.summary()"
   ]
  },
  {
   "cell_type": "code",
   "execution_count": 8,
   "metadata": {},
   "outputs": [
    {
     "ename": "NameError",
     "evalue": "name 'embedding_dim' is not defined",
     "output_type": "error",
     "traceback": [
      "\u001b[0;31m---------------------------------------------------------------------------\u001b[0m",
      "\u001b[0;31mNameError\u001b[0m                                 Traceback (most recent call last)",
      "\u001b[1;32m/home/fsabatini/workspace/tensorflow-tests/notebooks/2-text_clasiffication.ipynb Celda 16\u001b[0m line \u001b[0;36m1\n\u001b[1;32m      <a href='vscode-notebook-cell:/home/fsabatini/workspace/tensorflow-tests/notebooks/2-text_clasiffication.ipynb#X21sZmlsZQ%3D%3D?line=6'>7</a>\u001b[0m   \u001b[39mreturn\u001b[39;00m tf\u001b[39m.\u001b[39mstrings\u001b[39m.\u001b[39mregex_replace(stripped_html,\n\u001b[1;32m      <a href='vscode-notebook-cell:/home/fsabatini/workspace/tensorflow-tests/notebooks/2-text_clasiffication.ipynb#X21sZmlsZQ%3D%3D?line=7'>8</a>\u001b[0m                                   \u001b[39m'\u001b[39m\u001b[39m[\u001b[39m\u001b[39m%s\u001b[39;00m\u001b[39m]\u001b[39m\u001b[39m'\u001b[39m \u001b[39m%\u001b[39m re\u001b[39m.\u001b[39mescape(string\u001b[39m.\u001b[39mpunctuation),\n\u001b[1;32m      <a href='vscode-notebook-cell:/home/fsabatini/workspace/tensorflow-tests/notebooks/2-text_clasiffication.ipynb#X21sZmlsZQ%3D%3D?line=8'>9</a>\u001b[0m                                   \u001b[39m'\u001b[39m\u001b[39m'\u001b[39m)\n\u001b[1;32m     <a href='vscode-notebook-cell:/home/fsabatini/workspace/tensorflow-tests/notebooks/2-text_clasiffication.ipynb#X21sZmlsZQ%3D%3D?line=10'>11</a>\u001b[0m vectorize_layer \u001b[39m=\u001b[39m layers\u001b[39m.\u001b[39mTextVectorization(\n\u001b[1;32m     <a href='vscode-notebook-cell:/home/fsabatini/workspace/tensorflow-tests/notebooks/2-text_clasiffication.ipynb#X21sZmlsZQ%3D%3D?line=11'>12</a>\u001b[0m     standardize\u001b[39m=\u001b[39mcustom_standardization,\n\u001b[1;32m     <a href='vscode-notebook-cell:/home/fsabatini/workspace/tensorflow-tests/notebooks/2-text_clasiffication.ipynb#X21sZmlsZQ%3D%3D?line=12'>13</a>\u001b[0m     max_tokens\u001b[39m=\u001b[39mmax_features,\n\u001b[1;32m     <a href='vscode-notebook-cell:/home/fsabatini/workspace/tensorflow-tests/notebooks/2-text_clasiffication.ipynb#X21sZmlsZQ%3D%3D?line=13'>14</a>\u001b[0m     output_mode\u001b[39m=\u001b[39m\u001b[39m'\u001b[39m\u001b[39mint\u001b[39m\u001b[39m'\u001b[39m,\n\u001b[1;32m     <a href='vscode-notebook-cell:/home/fsabatini/workspace/tensorflow-tests/notebooks/2-text_clasiffication.ipynb#X21sZmlsZQ%3D%3D?line=14'>15</a>\u001b[0m     output_sequence_length\u001b[39m=\u001b[39msequence_length)\n\u001b[1;32m     <a href='vscode-notebook-cell:/home/fsabatini/workspace/tensorflow-tests/notebooks/2-text_clasiffication.ipynb#X21sZmlsZQ%3D%3D?line=16'>17</a>\u001b[0m model \u001b[39m=\u001b[39m tf\u001b[39m.\u001b[39mkeras\u001b[39m.\u001b[39mSequential([\n\u001b[0;32m---> <a href='vscode-notebook-cell:/home/fsabatini/workspace/tensorflow-tests/notebooks/2-text_clasiffication.ipynb#X21sZmlsZQ%3D%3D?line=17'>18</a>\u001b[0m   layers\u001b[39m.\u001b[39mEmbedding(max_features \u001b[39m+\u001b[39m \u001b[39m1\u001b[39m, embedding_dim),\n\u001b[1;32m     <a href='vscode-notebook-cell:/home/fsabatini/workspace/tensorflow-tests/notebooks/2-text_clasiffication.ipynb#X21sZmlsZQ%3D%3D?line=18'>19</a>\u001b[0m   layers\u001b[39m.\u001b[39mDropout(\u001b[39m0.2\u001b[39m),\n\u001b[1;32m     <a href='vscode-notebook-cell:/home/fsabatini/workspace/tensorflow-tests/notebooks/2-text_clasiffication.ipynb#X21sZmlsZQ%3D%3D?line=19'>20</a>\u001b[0m   layers\u001b[39m.\u001b[39mGlobalAveragePooling1D(),\n\u001b[1;32m     <a href='vscode-notebook-cell:/home/fsabatini/workspace/tensorflow-tests/notebooks/2-text_clasiffication.ipynb#X21sZmlsZQ%3D%3D?line=20'>21</a>\u001b[0m   layers\u001b[39m.\u001b[39mDropout(\u001b[39m0.2\u001b[39m),\n\u001b[1;32m     <a href='vscode-notebook-cell:/home/fsabatini/workspace/tensorflow-tests/notebooks/2-text_clasiffication.ipynb#X21sZmlsZQ%3D%3D?line=21'>22</a>\u001b[0m   layers\u001b[39m.\u001b[39mDense(\u001b[39m1\u001b[39m)])\n\u001b[1;32m     <a href='vscode-notebook-cell:/home/fsabatini/workspace/tensorflow-tests/notebooks/2-text_clasiffication.ipynb#X21sZmlsZQ%3D%3D?line=23'>24</a>\u001b[0m model\u001b[39m.\u001b[39msummary()\n",
      "\u001b[0;31mNameError\u001b[0m: name 'embedding_dim' is not defined"
     ]
    }
   ],
   "source": [
    "max_features = 10000\n",
    "sequence_length = 250\n",
    "\n",
    "def custom_standardization(input_data):\n",
    "  lowercase = tf.strings.lower(input_data)\n",
    "  stripped_html = tf.strings.regex_replace(lowercase, '<br />', ' ')\n",
    "  return tf.strings.regex_replace(stripped_html,\n",
    "                                  '[%s]' % re.escape(string.punctuation),\n",
    "                                  '')\n",
    "\n",
    "vectorize_layer = layers.TextVectorization(\n",
    "    standardize=custom_standardization,\n",
    "    max_tokens=max_features,\n",
    "    output_mode='int',\n",
    "    output_sequence_length=sequence_length)\n",
    "\n",
    "model = tf.keras.Sequential([\n",
    "  layers.Embedding(max_features + 1, embedding_dim),\n",
    "  layers.Dropout(0.2),\n",
    "  layers.GlobalAveragePooling1D(),\n",
    "  layers.Dropout(0.2),\n",
    "  layers.Dense(1)])\n",
    "\n",
    "model.summary()"
   ]
  }
 ],
 "metadata": {
  "kernelspec": {
   "display_name": "Python 3",
   "language": "python",
   "name": "python3"
  },
  "language_info": {
   "codemirror_mode": {
    "name": "ipython",
    "version": 3
   },
   "file_extension": ".py",
   "mimetype": "text/x-python",
   "name": "python",
   "nbconvert_exporter": "python",
   "pygments_lexer": "ipython3",
   "version": "3.8.10"
  }
 },
 "nbformat": 4,
 "nbformat_minor": 2
}
